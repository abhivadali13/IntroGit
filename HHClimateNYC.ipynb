{
  "nbformat": 4,
  "nbformat_minor": 0,
  "metadata": {
    "colab": {
      "name": "HHClimateNYC.ipynb",
      "provenance": [],
      "authorship_tag": "ABX9TyO8RMG+vwvlK0VW0VP7Zj2+",
      "include_colab_link": true
    },
    "kernelspec": {
      "name": "python3",
      "display_name": "Python 3"
    },
    "language_info": {
      "name": "python"
    }
  },
  "cells": [
    {
      "cell_type": "markdown",
      "metadata": {
        "id": "view-in-github",
        "colab_type": "text"
      },
      "source": [
        "<a href=\"https://colab.research.google.com/github/abhivadali13/IntroGit/blob/master/HHClimateNYC.ipynb\" target=\"_parent\"><img src=\"https://colab.research.google.com/assets/colab-badge.svg\" alt=\"Open In Colab\"/></a>"
      ]
    },
    {
      "cell_type": "markdown",
      "source": [
        "### Set Up"
      ],
      "metadata": {
        "id": "GdhogO1goySF"
      }
    },
    {
      "cell_type": "code",
      "execution_count": 13,
      "metadata": {
        "id": "zHEocSu6oYj6"
      },
      "outputs": [],
      "source": [
        "#importing the required libraries\n",
        "import pandas as pd\n",
        "from urllib.parse import urlencode\n",
        "import requests\n",
        "from datetime import datetime\n",
        "import os\n",
        "import numpy as np\n",
        "import ast\n",
        "import matplotlib.pyplot as plt\n",
        "import math, time, random, datetime\n",
        "import seaborn as sns\n",
        "from ast import literal_eval\n",
        "\n",
        "#machine learning\n",
        "from sklearn.model_selection import train_test_split\n",
        "from sklearn import model_selection, tree, preprocessing, metrics, linear_model\n",
        "from sklearn.neighbors import KNeighborsClassifier\n",
        "from sklearn.naive_bayes import GaussianNB\n",
        "from sklearn.linear_model import LinearRegression, LogisticRegression, SGDClassifier\n",
        "from sklearn.tree import DecisionTreeClassifier\n",
        "from sklearn.metrics import classification_report\n",
        "from sklearn.ensemble import RandomForestClassifier\n",
        "from sklearn.tree import DecisionTreeClassifier \n",
        "from requests.auth import HTTPBasicAuth\n",
        "import requests\n",
        "from io import StringIO\n",
        "from sklearn.metrics import mean_absolute_error"
      ]
    },
    {
      "cell_type": "code",
      "source": [
        "#importing drive and mounting it\n",
        "from google.colab import drive\n",
        "drive.mount('/content/drive')"
      ],
      "metadata": {
        "colab": {
          "base_uri": "https://localhost:8080/"
        },
        "id": "jH3DdUL3ogQJ",
        "outputId": "e9d3d38e-6a76-4670-c9a2-f5331d556f53"
      },
      "execution_count": 2,
      "outputs": [
        {
          "output_type": "stream",
          "name": "stdout",
          "text": [
            "Mounted at /content/drive\n"
          ]
        }
      ]
    },
    {
      "cell_type": "code",
      "source": [
        "#checking the contents of my drive\n",
        "os.chdir(\"/content/drive/My Drive/Misc/HHClimate\")\n",
        "!ls"
      ],
      "metadata": {
        "colab": {
          "base_uri": "https://localhost:8080/"
        },
        "id": "mtOOMIKbopQY",
        "outputId": "e14a348c-1e55-47d7-b14b-f75e374e06e3"
      },
      "execution_count": 3,
      "outputs": [
        {
          "output_type": "stream",
          "name": "stdout",
          "text": [
            "HHClimate.ipynb  test-data.csv\n"
          ]
        }
      ]
    },
    {
      "cell_type": "code",
      "source": [
        "#cd'ing into the folder that has all the files required for this project\n",
        "%cd \"/content/drive/My Drive/Misc/HHClimate\""
      ],
      "metadata": {
        "colab": {
          "base_uri": "https://localhost:8080/"
        },
        "id": "VgLvTOQDpAFl",
        "outputId": "d6920ee3-f4d0-4457-ac38-b9225ed403f9"
      },
      "execution_count": 4,
      "outputs": [
        {
          "output_type": "stream",
          "name": "stdout",
          "text": [
            "/content\n"
          ]
        }
      ]
    },
    {
      "cell_type": "markdown",
      "source": [
        "### Collecting our Data"
      ],
      "metadata": {
        "id": "HP-ydBRqo1Z1"
      }
    },
    {
      "cell_type": "code",
      "source": [
        "#function that takes in user input for lat/long\n",
        "#example coordinates for nyc: 40.7128° N, 74.0060° W\n",
        "def user_input():\n",
        "  lat = float(input(\"Please enter a valid latitude: \"))\n",
        "  longitude = float(input(\"Please enter a valid longitude: \"))\n",
        "  return lat, longitude\n",
        "\n",
        "user_lat, user_long = user_input()"
      ],
      "metadata": {
        "colab": {
          "base_uri": "https://localhost:8080/"
        },
        "id": "ODeWn35a1zon",
        "outputId": "60da1913-ca3c-4896-d184-994303c23252"
      },
      "execution_count": 23,
      "outputs": [
        {
          "name": "stdout",
          "output_type": "stream",
          "text": [
            "Please enter a valid latitude: 40.7128\n",
            "Please enter a valid longitude: 74.0060\n"
          ]
        }
      ]
    },
    {
      "cell_type": "code",
      "source": [
        "#function that calls the meteomatics API for sample coordinates and returns a dataframe of the data\n",
        "def api_call(latitude, longitude):\n",
        "  response = requests.get('https://api.meteomatics.com/2021-01-01T00:00:00Z--2022-03-31T00:00:00Z:PT1H/t_mean_100m_1h:C,relative_humidity_mean_100m_1h:p,pressure_mean_100m_1h:psi,wind_gusts_100m_1h:mph,wind_speed_mean_100m_1h:mph,air_density_mean_100m_1h:kgm3/' + str(latitude) + ',' + str(longitude) + '/csv', auth=HTTPBasicAuth(\"hackhouse_hertel\", \"vuD497eGSI\"))\n",
        "  df = pd.read_csv(StringIO(response.text), sep=\";\")\n",
        "  return df\n",
        "\n",
        "nyc_df = api_call(user_lat, user_long)\n",
        "nyc_df.head(5)"
      ],
      "metadata": {
        "colab": {
          "base_uri": "https://localhost:8080/",
          "height": 357
        },
        "id": "_lzirU-y19cQ",
        "outputId": "b52433ba-9e3d-4597-8c61-b22fb383adab"
      },
      "execution_count": 24,
      "outputs": [
        {
          "output_type": "execute_result",
          "data": {
            "text/plain": [
              "              validdate  t_mean_100m_1h:C  relative_humidity_mean_100m_1h:p  \\\n",
              "0  2021-01-01T00:00:00Z             -17.5                              19.4   \n",
              "1  2021-01-01T01:00:00Z             -17.7                              19.7   \n",
              "2  2021-01-01T02:00:00Z             -17.9                              19.6   \n",
              "3  2021-01-01T03:00:00Z             -17.9                              20.4   \n",
              "4  2021-01-01T04:00:00Z             -18.0                              22.0   \n",
              "\n",
              "   pressure_mean_100m_1h:psi  wind_gusts_100m_1h:mph  \\\n",
              "0                     9.0356                    21.3   \n",
              "1                     9.0331                    22.9   \n",
              "2                     9.0352                    23.5   \n",
              "3                     9.0398                    23.6   \n",
              "4                     9.0449                    24.6   \n",
              "\n",
              "   wind_speed_mean_100m_1h:mph  air_density_mean_100m_1h:kgm3  \n",
              "0                         21.3                          0.849  \n",
              "1                         25.8                          0.849  \n",
              "2                         25.8                          0.850  \n",
              "3                         26.3                          0.851  \n",
              "4                         27.1                          0.851  "
            ],
            "text/html": [
              "\n",
              "  <div id=\"df-ddc4184c-3613-4b10-987e-7d0362af26b4\">\n",
              "    <div class=\"colab-df-container\">\n",
              "      <div>\n",
              "<style scoped>\n",
              "    .dataframe tbody tr th:only-of-type {\n",
              "        vertical-align: middle;\n",
              "    }\n",
              "\n",
              "    .dataframe tbody tr th {\n",
              "        vertical-align: top;\n",
              "    }\n",
              "\n",
              "    .dataframe thead th {\n",
              "        text-align: right;\n",
              "    }\n",
              "</style>\n",
              "<table border=\"1\" class=\"dataframe\">\n",
              "  <thead>\n",
              "    <tr style=\"text-align: right;\">\n",
              "      <th></th>\n",
              "      <th>validdate</th>\n",
              "      <th>t_mean_100m_1h:C</th>\n",
              "      <th>relative_humidity_mean_100m_1h:p</th>\n",
              "      <th>pressure_mean_100m_1h:psi</th>\n",
              "      <th>wind_gusts_100m_1h:mph</th>\n",
              "      <th>wind_speed_mean_100m_1h:mph</th>\n",
              "      <th>air_density_mean_100m_1h:kgm3</th>\n",
              "    </tr>\n",
              "  </thead>\n",
              "  <tbody>\n",
              "    <tr>\n",
              "      <th>0</th>\n",
              "      <td>2021-01-01T00:00:00Z</td>\n",
              "      <td>-17.5</td>\n",
              "      <td>19.4</td>\n",
              "      <td>9.0356</td>\n",
              "      <td>21.3</td>\n",
              "      <td>21.3</td>\n",
              "      <td>0.849</td>\n",
              "    </tr>\n",
              "    <tr>\n",
              "      <th>1</th>\n",
              "      <td>2021-01-01T01:00:00Z</td>\n",
              "      <td>-17.7</td>\n",
              "      <td>19.7</td>\n",
              "      <td>9.0331</td>\n",
              "      <td>22.9</td>\n",
              "      <td>25.8</td>\n",
              "      <td>0.849</td>\n",
              "    </tr>\n",
              "    <tr>\n",
              "      <th>2</th>\n",
              "      <td>2021-01-01T02:00:00Z</td>\n",
              "      <td>-17.9</td>\n",
              "      <td>19.6</td>\n",
              "      <td>9.0352</td>\n",
              "      <td>23.5</td>\n",
              "      <td>25.8</td>\n",
              "      <td>0.850</td>\n",
              "    </tr>\n",
              "    <tr>\n",
              "      <th>3</th>\n",
              "      <td>2021-01-01T03:00:00Z</td>\n",
              "      <td>-17.9</td>\n",
              "      <td>20.4</td>\n",
              "      <td>9.0398</td>\n",
              "      <td>23.6</td>\n",
              "      <td>26.3</td>\n",
              "      <td>0.851</td>\n",
              "    </tr>\n",
              "    <tr>\n",
              "      <th>4</th>\n",
              "      <td>2021-01-01T04:00:00Z</td>\n",
              "      <td>-18.0</td>\n",
              "      <td>22.0</td>\n",
              "      <td>9.0449</td>\n",
              "      <td>24.6</td>\n",
              "      <td>27.1</td>\n",
              "      <td>0.851</td>\n",
              "    </tr>\n",
              "  </tbody>\n",
              "</table>\n",
              "</div>\n",
              "      <button class=\"colab-df-convert\" onclick=\"convertToInteractive('df-ddc4184c-3613-4b10-987e-7d0362af26b4')\"\n",
              "              title=\"Convert this dataframe to an interactive table.\"\n",
              "              style=\"display:none;\">\n",
              "        \n",
              "  <svg xmlns=\"http://www.w3.org/2000/svg\" height=\"24px\"viewBox=\"0 0 24 24\"\n",
              "       width=\"24px\">\n",
              "    <path d=\"M0 0h24v24H0V0z\" fill=\"none\"/>\n",
              "    <path d=\"M18.56 5.44l.94 2.06.94-2.06 2.06-.94-2.06-.94-.94-2.06-.94 2.06-2.06.94zm-11 1L8.5 8.5l.94-2.06 2.06-.94-2.06-.94L8.5 2.5l-.94 2.06-2.06.94zm10 10l.94 2.06.94-2.06 2.06-.94-2.06-.94-.94-2.06-.94 2.06-2.06.94z\"/><path d=\"M17.41 7.96l-1.37-1.37c-.4-.4-.92-.59-1.43-.59-.52 0-1.04.2-1.43.59L10.3 9.45l-7.72 7.72c-.78.78-.78 2.05 0 2.83L4 21.41c.39.39.9.59 1.41.59.51 0 1.02-.2 1.41-.59l7.78-7.78 2.81-2.81c.8-.78.8-2.07 0-2.86zM5.41 20L4 18.59l7.72-7.72 1.47 1.35L5.41 20z\"/>\n",
              "  </svg>\n",
              "      </button>\n",
              "      \n",
              "  <style>\n",
              "    .colab-df-container {\n",
              "      display:flex;\n",
              "      flex-wrap:wrap;\n",
              "      gap: 12px;\n",
              "    }\n",
              "\n",
              "    .colab-df-convert {\n",
              "      background-color: #E8F0FE;\n",
              "      border: none;\n",
              "      border-radius: 50%;\n",
              "      cursor: pointer;\n",
              "      display: none;\n",
              "      fill: #1967D2;\n",
              "      height: 32px;\n",
              "      padding: 0 0 0 0;\n",
              "      width: 32px;\n",
              "    }\n",
              "\n",
              "    .colab-df-convert:hover {\n",
              "      background-color: #E2EBFA;\n",
              "      box-shadow: 0px 1px 2px rgba(60, 64, 67, 0.3), 0px 1px 3px 1px rgba(60, 64, 67, 0.15);\n",
              "      fill: #174EA6;\n",
              "    }\n",
              "\n",
              "    [theme=dark] .colab-df-convert {\n",
              "      background-color: #3B4455;\n",
              "      fill: #D2E3FC;\n",
              "    }\n",
              "\n",
              "    [theme=dark] .colab-df-convert:hover {\n",
              "      background-color: #434B5C;\n",
              "      box-shadow: 0px 1px 3px 1px rgba(0, 0, 0, 0.15);\n",
              "      filter: drop-shadow(0px 1px 2px rgba(0, 0, 0, 0.3));\n",
              "      fill: #FFFFFF;\n",
              "    }\n",
              "  </style>\n",
              "\n",
              "      <script>\n",
              "        const buttonEl =\n",
              "          document.querySelector('#df-ddc4184c-3613-4b10-987e-7d0362af26b4 button.colab-df-convert');\n",
              "        buttonEl.style.display =\n",
              "          google.colab.kernel.accessAllowed ? 'block' : 'none';\n",
              "\n",
              "        async function convertToInteractive(key) {\n",
              "          const element = document.querySelector('#df-ddc4184c-3613-4b10-987e-7d0362af26b4');\n",
              "          const dataTable =\n",
              "            await google.colab.kernel.invokeFunction('convertToInteractive',\n",
              "                                                     [key], {});\n",
              "          if (!dataTable) return;\n",
              "\n",
              "          const docLinkHtml = 'Like what you see? Visit the ' +\n",
              "            '<a target=\"_blank\" href=https://colab.research.google.com/notebooks/data_table.ipynb>data table notebook</a>'\n",
              "            + ' to learn more about interactive tables.';\n",
              "          element.innerHTML = '';\n",
              "          dataTable['output_type'] = 'display_data';\n",
              "          await google.colab.output.renderOutput(dataTable, element);\n",
              "          const docLink = document.createElement('div');\n",
              "          docLink.innerHTML = docLinkHtml;\n",
              "          element.appendChild(docLink);\n",
              "        }\n",
              "      </script>\n",
              "    </div>\n",
              "  </div>\n",
              "  "
            ]
          },
          "metadata": {},
          "execution_count": 24
        }
      ]
    },
    {
      "cell_type": "markdown",
      "source": [
        "### Formatting the Data"
      ],
      "metadata": {
        "id": "UtDQT56ixoNS"
      }
    },
    {
      "cell_type": "code",
      "source": [
        "#function that splits up our data into two dataframes, 1 with the data from the previous hour, and one with the data for the next hour\n",
        "#this function also splits up the data into labels\n",
        "def data_splitter(dataframe):\n",
        "  dataframe = dataframe.assign(wind_speed_mean_100m_next_1h=np.roll(dataframe[\"wind_speed_mean_100m_1h:mph\"].values, -1))\n",
        "  X = dataframe[[\"wind_speed_mean_100m_1h:mph\"]].values\n",
        "  y = dataframe[[\"wind_speed_mean_100m_next_1h\"]].values\n",
        "  return X, y\n",
        "\n",
        "X, y = data_splitter(nyc_df)"
      ],
      "metadata": {
        "id": "cxYMWCQ7xG4n"
      },
      "execution_count": 27,
      "outputs": []
    },
    {
      "cell_type": "markdown",
      "source": [
        "### Building our Model"
      ],
      "metadata": {
        "id": "XbS9cN2Zrt5k"
      }
    },
    {
      "cell_type": "code",
      "source": [
        "#a function that splits our data into train/test splits, builds a model and returns the MAE and a plot of our results\n",
        "def model_builder(x_dataframe, y_dataframe):\n",
        "  X_train, X_test, y_train, y_test = train_test_split(x_dataframe, y_dataframe, test_size=0.33, random_state=42)\n",
        "\n",
        "  #instantiating a simple linear model\n",
        "  linear = linear_model.LinearRegression()\n",
        "\n",
        "  #fitting our model\n",
        "  predictions = linear.fit(X_train, y_train).predict(X_test)\n",
        "\n",
        "  #plotting the results\n",
        "  print('Our MAE is: ', mean_absolute_error(predictions, y_test))\n",
        "  print()\n",
        "  plt.scatter(y_test, predictions)\n",
        "  plt.xlabel('Scores')\n",
        "  plt.ylabel('Predicted Scores')\n",
        "  plt.show()\n",
        "\n",
        "model_builder(X, y)"
      ],
      "metadata": {
        "colab": {
          "base_uri": "https://localhost:8080/",
          "height": 314
        },
        "id": "Fx3kaLlP5gWN",
        "outputId": "cb02f39e-a1c2-4d92-8d96-1eb8c4d1893b"
      },
      "execution_count": 29,
      "outputs": [
        {
          "output_type": "stream",
          "name": "stdout",
          "text": [
            "Our MAE is:  0.9322373538525079\n",
            "\n"
          ]
        },
        {
          "output_type": "display_data",
          "data": {
            "text/plain": [
              "<Figure size 432x288 with 1 Axes>"
            ],
            "image/png": "[encoded data removed]"
          },
          "metadata": {
            "needs_background": "light"
          }
        }
      ]
    }
  ]
}